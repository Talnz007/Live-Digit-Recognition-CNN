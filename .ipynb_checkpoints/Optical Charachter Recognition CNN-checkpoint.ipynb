{
 "cells": [
  {
   "metadata": {},
   "cell_type": "markdown",
   "source": [
    "# Live Digit Recognition with Convolutional Neural Networks\n",
    "\n",
    "In this notebook, we demonstrate how to build a real-time digit recognition system using a Convolutional Neural Network (CNN) and OpenCV. The system captures live video from a webcam and predicts handwritten digits.\n",
    "\n",
    "## Table of Contents\n",
    "1. [Import Libraries](#import-libraries)\n",
    "2. [Load the Trained Model](#load-the-trained-model)\n",
    "3. [Preprocessing the Image](#preprocessing-the-image)\n",
    "4. [Predicting the Digit](#predicting-the-digit)\n",
    "5. [Capture and Process Video](#capture-and-process-video)\n",
    "6. [Display Results](#display-results)\n"
   ],
   "id": "6985616bf2e7328e"
  },
  {
   "metadata": {},
   "cell_type": "markdown",
   "source": "## 1. Import Libraries",
   "id": "a099fda47f45f2ff"
  },
  {
   "metadata": {
    "ExecuteTime": {
     "end_time": "2024-07-24T13:36:01.451891Z",
     "start_time": "2024-07-24T13:35:58.624973Z"
    }
   },
   "cell_type": "code",
   "source": [
    "import cv2\n",
    "import numpy as np\n",
    "import tensorflow as tf"
   ],
   "id": "688da3657edffcbb",
   "outputs": [
    {
     "name": "stderr",
     "output_type": "stream",
     "text": [
      "2024-07-24 18:35:59.015262: I external/local_xla/xla/tsl/cuda/cudart_stub.cc:32] Could not find cuda drivers on your machine, GPU will not be used.\n",
      "2024-07-24 18:35:59.019003: I external/local_xla/xla/tsl/cuda/cudart_stub.cc:32] Could not find cuda drivers on your machine, GPU will not be used.\n",
      "2024-07-24 18:35:59.030572: E external/local_xla/xla/stream_executor/cuda/cuda_fft.cc:485] Unable to register cuFFT factory: Attempting to register factory for plugin cuFFT when one has already been registered\n",
      "2024-07-24 18:35:59.049261: E external/local_xla/xla/stream_executor/cuda/cuda_dnn.cc:8454] Unable to register cuDNN factory: Attempting to register factory for plugin cuDNN when one has already been registered\n",
      "2024-07-24 18:35:59.056981: E external/local_xla/xla/stream_executor/cuda/cuda_blas.cc:1452] Unable to register cuBLAS factory: Attempting to register factory for plugin cuBLAS when one has already been registered\n",
      "2024-07-24 18:35:59.071553: I tensorflow/core/platform/cpu_feature_guard.cc:210] This TensorFlow binary is optimized to use available CPU instructions in performance-critical operations.\n",
      "To enable the following instructions: AVX2 FMA, in other operations, rebuild TensorFlow with the appropriate compiler flags.\n",
      "2024-07-24 18:36:00.080239: W tensorflow/compiler/tf2tensorrt/utils/py_utils.cc:38] TF-TRT Warning: Could not find TensorRT\n"
     ]
    }
   ],
   "execution_count": 1
  },
  {
   "metadata": {},
   "cell_type": "markdown",
   "source": [
    "## 2. Load the Trained Model\n",
    "\n",
    "We load the pre-trained CNN model which was trained to recognize handwritten digits. If you want to see the training procedure and dataset, you can access the `vision.py` and the `dataset` folder for more details.\n"
   ],
   "id": "e02aecd5d167148a"
  },
  {
   "metadata": {
    "ExecuteTime": {
     "end_time": "2024-07-24T13:36:01.600500Z",
     "start_time": "2024-07-24T13:36:01.453883Z"
    }
   },
   "cell_type": "code",
   "source": [
    "# Load the trained model\n",
    "model = tf.keras.models.load_model('/home/talnz/PythonProjects/VisionCNN/mnist_model_v2.h5')"
   ],
   "id": "7edbcdcebc09a382",
   "outputs": [
    {
     "name": "stderr",
     "output_type": "stream",
     "text": [
      "WARNING:absl:Compiled the loaded model, but the compiled metrics have yet to be built. `model.compile_metrics` will be empty until you train or evaluate the model.\n"
     ]
    }
   ],
   "execution_count": 2
  },
  {
   "metadata": {},
   "cell_type": "markdown",
   "source": [
    "## 3. Preprocessing the Image\n",
    "\n",
    "Define a function to preprocess the images so that they are compatible with the model input requirements.\n"
   ],
   "id": "aa77e8dc1953ada2"
  },
  {
   "metadata": {
    "ExecuteTime": {
     "end_time": "2024-07-24T13:36:01.608807Z",
     "start_time": "2024-07-24T13:36:01.603167Z"
    }
   },
   "cell_type": "code",
   "source": [
    "def predict_digit(image):\n",
    "    # Preprocess the image\n",
    "    processed_image = preprocess(image)\n",
    "    \n",
    "    # Predict the digit\n",
    "    prediction = model.predict(processed_image)\n",
    "    \n",
    "    # Return the digit with the highest probability\n",
    "    return np.argmax(prediction)\n"
   ],
   "id": "663496041f8afd2f",
   "outputs": [],
   "execution_count": 3
  },
  {
   "metadata": {},
   "cell_type": "markdown",
   "source": [
    "## 5. Capture and Process Video\n",
    "\n",
    "Capture video from the webcam, process each frame, and predict digits in real-time.\n"
   ],
   "id": "8e291c0784ed3313"
  },
  {
   "metadata": {
    "ExecuteTime": {
     "end_time": "2024-07-24T13:36:03.409050Z",
     "start_time": "2024-07-24T13:36:01.610618Z"
    }
   },
   "cell_type": "code",
   "source": [
    "# Initialize video capture from the default webcam\n",
    "cap = cv2.VideoCapture(0)\n",
    "\n",
    "while True:\n",
    "    # Capture frame-by-frame\n",
    "    ret, frame = cap.read()\n",
    "    if not ret:\n",
    "        break\n",
    "    \n",
    "    # Define the Region of Interest (ROI) where the digit is expected\n",
    "    height, width, _ = frame.shape\n",
    "    roi = frame[height//2-50:height//2+50, width//2-50:width//2+50]\n",
    "    \n",
    "    # Predict the digit in the ROI\n",
    "    digit = predict_digit(roi)\n",
    "    \n",
    "    # Display the prediction on the frame\n",
    "    cv2.putText(frame, f'Prediction: {digit}', (10, 30), cv2.FONT_HERSHEY_SIMPLEX, 1, (255, 0, 0), 2)\n",
    "    \n",
    "    # Draw a rectangle around the ROI\n",
    "    cv2.rectangle(frame, (width//2-50, height//2-50), (width//2+50, height//2+50), (0, 255, 0), 2)\n",
    "    \n",
    "    # Show the frame with predictions\n",
    "    cv2.imshow('Live Digit Recognition', frame)\n",
    "    \n",
    "    # Exit the loop if 'q' is pressed\n",
    "    if cv2.waitKey(1) & 0xFF == ord('q'):\n",
    "        break\n",
    "\n",
    "# Release the video capture and close all OpenCV windows\n",
    "cap.release()\n",
    "cv2.destroyAllWindows()\n"
   ],
   "id": "489a51cb937b53f8",
   "outputs": [
    {
     "ename": "NameError",
     "evalue": "name 'preprocess' is not defined",
     "output_type": "error",
     "traceback": [
      "\u001B[0;31m---------------------------------------------------------------------------\u001B[0m",
      "\u001B[0;31mNameError\u001B[0m                                 Traceback (most recent call last)",
      "Cell \u001B[0;32mIn[4], line 15\u001B[0m\n\u001B[1;32m     12\u001B[0m roi \u001B[38;5;241m=\u001B[39m frame[height\u001B[38;5;241m/\u001B[39m\u001B[38;5;241m/\u001B[39m\u001B[38;5;241m2\u001B[39m\u001B[38;5;241m-\u001B[39m\u001B[38;5;241m50\u001B[39m:height\u001B[38;5;241m/\u001B[39m\u001B[38;5;241m/\u001B[39m\u001B[38;5;241m2\u001B[39m\u001B[38;5;241m+\u001B[39m\u001B[38;5;241m50\u001B[39m, width\u001B[38;5;241m/\u001B[39m\u001B[38;5;241m/\u001B[39m\u001B[38;5;241m2\u001B[39m\u001B[38;5;241m-\u001B[39m\u001B[38;5;241m50\u001B[39m:width\u001B[38;5;241m/\u001B[39m\u001B[38;5;241m/\u001B[39m\u001B[38;5;241m2\u001B[39m\u001B[38;5;241m+\u001B[39m\u001B[38;5;241m50\u001B[39m]\n\u001B[1;32m     14\u001B[0m \u001B[38;5;66;03m# Predict the digit in the ROI\u001B[39;00m\n\u001B[0;32m---> 15\u001B[0m digit \u001B[38;5;241m=\u001B[39m \u001B[43mpredict_digit\u001B[49m\u001B[43m(\u001B[49m\u001B[43mroi\u001B[49m\u001B[43m)\u001B[49m\n\u001B[1;32m     17\u001B[0m \u001B[38;5;66;03m# Display the prediction on the frame\u001B[39;00m\n\u001B[1;32m     18\u001B[0m cv2\u001B[38;5;241m.\u001B[39mputText(frame, \u001B[38;5;124mf\u001B[39m\u001B[38;5;124m'\u001B[39m\u001B[38;5;124mPrediction: \u001B[39m\u001B[38;5;132;01m{\u001B[39;00mdigit\u001B[38;5;132;01m}\u001B[39;00m\u001B[38;5;124m'\u001B[39m, (\u001B[38;5;241m10\u001B[39m, \u001B[38;5;241m30\u001B[39m), cv2\u001B[38;5;241m.\u001B[39mFONT_HERSHEY_SIMPLEX, \u001B[38;5;241m1\u001B[39m, (\u001B[38;5;241m255\u001B[39m, \u001B[38;5;241m0\u001B[39m, \u001B[38;5;241m0\u001B[39m), \u001B[38;5;241m2\u001B[39m)\n",
      "Cell \u001B[0;32mIn[3], line 3\u001B[0m, in \u001B[0;36mpredict_digit\u001B[0;34m(image)\u001B[0m\n\u001B[1;32m      1\u001B[0m \u001B[38;5;28;01mdef\u001B[39;00m \u001B[38;5;21mpredict_digit\u001B[39m(image):\n\u001B[1;32m      2\u001B[0m     \u001B[38;5;66;03m# Preprocess the image\u001B[39;00m\n\u001B[0;32m----> 3\u001B[0m     processed_image \u001B[38;5;241m=\u001B[39m \u001B[43mpreprocess\u001B[49m(image)\n\u001B[1;32m      5\u001B[0m     \u001B[38;5;66;03m# Predict the digit\u001B[39;00m\n\u001B[1;32m      6\u001B[0m     prediction \u001B[38;5;241m=\u001B[39m model\u001B[38;5;241m.\u001B[39mpredict(processed_image)\n",
      "\u001B[0;31mNameError\u001B[0m: name 'preprocess' is not defined"
     ]
    }
   ],
   "execution_count": 4
  },
  {
   "metadata": {},
   "cell_type": "markdown",
   "source": [
    "## 6. Display Results\n",
    "\n",
    "The results are displayed in a window showing the live video feed with predicted digits and ROI highlighted. To stop the video stream, press 'q'.\n",
    "\n",
    "---\n",
    "\n",
    "This notebook demonstrates the core components required for live digit recognition using a CNN. It includes code for loading a pre-trained model, preprocessing images, making predictions, and capturing video from a webcam.\n",
    "\n",
    "Feel free to modify and extend this notebook for your specific use case!\n"
   ],
   "id": "1a1386fda64dfb2c"
  }
 ],
 "metadata": {
  "kernelspec": {
   "display_name": "Python 3",
   "language": "python",
   "name": "python3"
  },
  "language_info": {
   "codemirror_mode": {
    "name": "ipython",
    "version": 2
   },
   "file_extension": ".py",
   "mimetype": "text/x-python",
   "name": "python",
   "nbconvert_exporter": "python",
   "pygments_lexer": "ipython2",
   "version": "2.7.6"
  }
 },
 "nbformat": 4,
 "nbformat_minor": 5
}
